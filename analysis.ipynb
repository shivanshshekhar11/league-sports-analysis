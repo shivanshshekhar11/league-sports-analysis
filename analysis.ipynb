{
 "cells": [
  {
   "cell_type": "markdown",
   "metadata": {
    "deletable": false,
    "editable": false,
    "etc_identifier": "653a3605-5bda-4e1f-beef-04a0173d3f41",
    "nbgrader": {
     "cell_type": "markdown",
     "checksum": "60da2e57814a61cf6a81dd670bf35473",
     "grade": false,
     "grade_id": "cell-a6c4f74309fc2379",
     "locked": true,
     "schema_version": 3,
     "solution": false
    }
   },
   "source": [
    "# League Sports Analysis\n",
    "## Description\n",
    "In this, you must read in a file of metropolitan regions and associated sports teams from [assets/wikipedia_data.html](assets/wikipedia_data.html) and answer some questions about each metropolitan region. Each of these regions may have one or more teams from the \"Big 4\": NFL (football, in [assets/nfl.csv](assets/nfl.csv)), MLB (baseball, in [assets/mlb.csv](assets/mlb.csv)), NBA (basketball, in [assets/nba.csv](assets/nba.csv) or NHL (hockey, in [assets/nhl.csv](assets/nhl.csv)). Please keep in mind that all questions are from the perspective of the metropolitan region, and that this file is the \"source of authority\" for the location of a given sports team. Thus teams which are commonly known by a different area (e.g. \"Oakland Raiders\") need to be mapped into the metropolitan region given (e.g. San Francisco Bay Area). This will require some human data understanding outside of the data you've been given (e.g. you will have to hand-code some names, and might need to google to find out where teams are)!\n",
    "\n",
    "For each sport, answer the question: **what is the win/loss ratio's correlation with the population of the city it is in?** Win/Loss ratio refers to the number of wins over the number of wins plus the number of losses. Remember that to calculate the correlation with [`pearsonr`](https://docs.scipy.org/doc/scipy/reference/generated/scipy.stats.pearsonr.html), so you are going to send in two ordered lists of values, the populations from the wikipedia_data.html file and the win/loss ratio for a given sport in the same order. Average the win/loss ratios for those cities which have multiple teams of a single sport. Each sport is worth an equal amount in this assignment (20%\\*4=80%) of the grade for this assignment. You should only use data **from year 2018** for your analysis -- this is important!\n"
   ]
  },
  {
   "cell_type": "markdown",
   "metadata": {
    "deletable": false,
    "editable": false,
    "nbgrader": {
     "cell_type": "markdown",
     "checksum": "369ff9ecf0ee04640574205cbc697f94",
     "grade": false,
     "grade_id": "cell-712b2b5da63d4505",
     "locked": true,
     "schema_version": 3,
     "solution": false
    }
   },
   "source": [
    "## 1\n",
    "For this, calculate the win/loss ratio's correlation with the population of the city it is in for the **NHL** using **2018** data."
   ]
  },
  {
   "cell_type": "code",
   "execution_count": 1,
   "metadata": {
    "deletable": false,
    "nbgrader": {
     "cell_type": "code",
     "checksum": "1cac4803b02502929f5b1612d48db2b5",
     "grade": false,
     "grade_id": "cell-69b16e4386e58030",
     "locked": false,
     "schema_version": 3,
     "solution": true
    }
   },
   "outputs": [],
   "source": [
    "import pandas as pd\n",
    "import numpy as np\n",
    "import scipy.stats as stats\n",
    "import re\n",
    "\n",
    "def res_nhl():\n",
    "\n",
    "    nhl_df=pd.read_csv(\"assets/nhl.csv\")\n",
    "    nhl_df = nhl_df[nhl_df['year'] == 2018]\n",
    "    nhl_df = nhl_df[nhl_df['PTS'] != nhl_df['PTS%']]    #removing division rows\n",
    "    nhl_df['team'] = nhl_df.apply(lambda x: re.sub('\\*','',x['team']), axis=1)\n",
    "    nhl_df['team'] = nhl_df.apply(lambda x: x['team'].split(' ')[-1], axis=1)\n",
    "    nhl_df['W/L Ratio'] = nhl_df.apply(lambda x: int(x['W'])/(int(x['W'])+int(x['L'])), axis=1)\n",
    "    nhl_df = nhl_df.set_index('team')\n",
    "\n",
    "    cities=pd.read_html(\"assets/wikipedia_data.html\")[1]\n",
    "    cities=cities.iloc[:-1,[0,3,5,6,7,8]]       #selecting relevant columns\n",
    "    cities['NHL'] = cities.apply(lambda x: re.sub('\\[.*\\]','',x['NHL']), axis=1)\n",
    "    cities['NHL'] = cities.apply(lambda x: x['NHL'].split(' ') if ' ' in x['NHL'] else x['NHL'], axis=1)\n",
    "    cities = cities.explode('NHL')\n",
    "    cities = cities.set_index('NHL')\n",
    "\n",
    "    res = pd.merge(nhl_df, cities, how='inner', left_index=True, right_index=True)\n",
    "    res['population'] = res.apply(lambda x: int(x['Population (2016 est.)[8]']), axis=1)\n",
    "    temp = res.groupby('Metropolitan area').agg({'W/L Ratio':np.mean, 'population':np.mean})\n",
    "    \n",
    "    return temp\n",
    "\n",
    "def nhl_correlation():\n",
    "    \n",
    "    temp = res_nhl()\n",
    "        \n",
    "    population_by_region = temp['population'] # pass in metropolitan area population from cities\n",
    "    win_loss_by_region = temp['W/L Ratio'] # pass in win/loss ratio from nhl_df in the same order as cities[\"Metropolitan area\"]\n",
    "    \n",
    "    return stats.pearsonr(population_by_region, win_loss_by_region)[0]"
   ]
  },
  {
   "cell_type": "code",
   "execution_count": 2,
   "metadata": {
    "deletable": false,
    "editable": false,
    "nbgrader": {
     "cell_type": "code",
     "checksum": "52a581df513c71153e105b93764cda4b",
     "grade": true,
     "grade_id": "cell-ebe0b2dfe1067e63",
     "locked": true,
     "points": 20,
     "schema_version": 3,
     "solution": false
    }
   },
   "outputs": [
    {
     "data": {
      "text/plain": "0.0608128037551192"
     },
     "execution_count": 2,
     "metadata": {},
     "output_type": "execute_result"
    }
   ],
   "source": [
    "nhl_correlation()"
   ]
  },
  {
   "cell_type": "markdown",
   "metadata": {
    "deletable": false,
    "editable": false,
    "nbgrader": {
     "cell_type": "markdown",
     "checksum": "988912cae4968d81473f46d783e79c16",
     "grade": false,
     "grade_id": "cell-cb964e690298b71d",
     "locked": true,
     "schema_version": 3,
     "solution": false
    }
   },
   "source": [
    "## 2\n",
    "For this, calculate the win/loss ratio's correlation with the population of the city it is in for the **NBA** using **2018** data."
   ]
  },
  {
   "cell_type": "code",
   "execution_count": 3,
   "metadata": {
    "deletable": false,
    "nbgrader": {
     "cell_type": "code",
     "checksum": "9394222aafc8ccab0a228098ba0d6010",
     "grade": false,
     "grade_id": "cell-5a5f21279e3d3572",
     "locked": false,
     "schema_version": 3,
     "solution": true
    }
   },
   "outputs": [],
   "source": [
    "import pandas as pd\n",
    "import numpy as np\n",
    "import scipy.stats as stats\n",
    "import re\n",
    "\n",
    "def res_nba():\n",
    "\n",
    "    nba_df=pd.read_csv(\"assets/nba.csv\")\n",
    "    nba_df = nba_df[nba_df['year'] == 2018]\n",
    "    nba_df['team'] = nba_df.apply(lambda x: re.findall('[a-zA-Z0-9 ]*',x['team'])[0], axis=1)\n",
    "    nba_df['team'] = nba_df.apply(lambda x: x['team'].split(' ')[-1], axis=1)\n",
    "    nba_df = nba_df.set_index('team')\n",
    "\n",
    "    cities=pd.read_html(\"assets/wikipedia_data.html\")[1]\n",
    "    cities=cities.iloc[:-1,[0,3,5,6,7,8]]\n",
    "    cities['NBA'] = cities.apply(lambda x: re.sub('\\[.*\\]','',x['NBA']), axis=1)\n",
    "    cities['NBA'] = cities.apply(lambda x: x['NBA'].split(' ') if ' ' in x['NBA'] else x['NBA'], axis=1)\n",
    "    cities = cities.explode('NBA')\n",
    "    cities = cities.set_index('NBA')\n",
    "\n",
    "    res = pd.merge(nba_df, cities, how='inner', left_index=True, right_index=True)\n",
    "    res['population'] = res.apply(lambda x: int(x['Population (2016 est.)[8]']), axis=1)\n",
    "    res['W/L%'] = res.apply(lambda x: float(x['W/L%']), axis=1)\n",
    "    temp = res.groupby('Metropolitan area').agg({'W/L%':np.mean, 'population':np.mean})\n",
    "    \n",
    "    return temp\n",
    "\n",
    "def nba_correlation():\n",
    "    \n",
    "    temp = res_nba()\n",
    "    \n",
    "    population_by_region = temp['population'] # pass in metropolitan area population from cities\n",
    "    win_loss_by_region = temp['W/L%'] # pass in win/loss ratio from nba_df in the same order as cities[\"Metropolitan area\"]\n",
    "\n",
    "    return stats.pearsonr(population_by_region, win_loss_by_region)[0]"
   ]
  },
  {
   "cell_type": "code",
   "execution_count": 4,
   "metadata": {
    "deletable": false,
    "editable": false,
    "nbgrader": {
     "cell_type": "code",
     "checksum": "bbdeb8eb22f525a34c10dc8798324e42",
     "grade": true,
     "grade_id": "cell-e573b2b4a282b470",
     "locked": true,
     "points": 20,
     "schema_version": 3,
     "solution": false
    }
   },
   "outputs": [
    {
     "data": {
      "text/plain": "-0.0052899453820452694"
     },
     "execution_count": 4,
     "metadata": {},
     "output_type": "execute_result"
    }
   ],
   "source": [
    "nba_correlation()"
   ]
  },
  {
   "cell_type": "markdown",
   "metadata": {
    "deletable": false,
    "editable": false,
    "nbgrader": {
     "cell_type": "markdown",
     "checksum": "1a1a5809f675ca033086422007cd73bd",
     "grade": false,
     "grade_id": "cell-96e15e4335df78f4",
     "locked": true,
     "schema_version": 3,
     "solution": false
    }
   },
   "source": [
    "## 3\n",
    "For this, calculate the win/loss ratio's correlation with the population of the city it is in for the **MLB** using **2018** data."
   ]
  },
  {
   "cell_type": "code",
   "execution_count": 5,
   "metadata": {
    "deletable": false,
    "nbgrader": {
     "cell_type": "code",
     "checksum": "27e8c0da6c9fa0dffc10488314335b6c",
     "grade": false,
     "grade_id": "cell-33b00fc3f3467b0c",
     "locked": false,
     "schema_version": 3,
     "solution": true
    }
   },
   "outputs": [],
   "source": [
    "import pandas as pd\n",
    "import numpy as np\n",
    "import scipy.stats as stats\n",
    "import re\n",
    "\n",
    "def res_mlb():\n",
    "\n",
    "    mlb_df=pd.read_csv(\"assets/mlb.csv\")\n",
    "    mlb_df = mlb_df[mlb_df['year'] == 2018]\n",
    "    mlb_df['team'][0] = 'Rsox'      #handling similar last names of teams Red Sox and White Sox\n",
    "    mlb_df['team'][8] = 'Wsox'\n",
    "    mlb_df['team'] = mlb_df.apply(lambda x: x['team'].split(' ')[-1], axis=1)\n",
    "    mlb_df = mlb_df.set_index('team')\n",
    "\n",
    "    cities=pd.read_html(\"assets/wikipedia_data.html\")[1]\n",
    "    cities=cities.iloc[:-1,[0,3,5,6,7,8]]\n",
    "    cities['MLB'] = cities.apply(lambda x: re.sub('\\[.*\\]','',x['MLB']), axis=1)\n",
    "    cities['MLB'][3] = 'Cubs Wsox'\n",
    "    cities['MLB'][7] = 'Rsox'\n",
    "    cities['MLB'] = cities.apply(lambda x: x['MLB'].split(' ') if ' ' in x['MLB'] else x['MLB'], axis=1)\n",
    "    cities = cities.explode('MLB')\n",
    "    cities = cities.set_index('MLB')\n",
    "\n",
    "    res = pd.merge(mlb_df, cities, how='inner', left_index=True, right_index=True)\n",
    "    res['population'] = res.apply(lambda x: int(x['Population (2016 est.)[8]']), axis=1)\n",
    "    res['W-L%'] = res.apply(lambda x: float(x['W-L%']), axis=1)\n",
    "    temp = res.groupby('Metropolitan area').agg({'W-L%':np.mean, 'population':np.mean})\n",
    "    \n",
    "    return temp\n",
    "\n",
    "def mlb_correlation():\n",
    "    \n",
    "    temp = res_mlb()\n",
    "    \n",
    "    population_by_region = temp['population'] # pass in metropolitan area population from cities\n",
    "    win_loss_by_region = temp['W-L%'] # pass in win/loss ratio from mlb_df in the same order as cities[\"Metropolitan area\"]\n",
    "\n",
    "    return stats.pearsonr(population_by_region, win_loss_by_region)[0]"
   ]
  },
  {
   "cell_type": "code",
   "execution_count": 6,
   "metadata": {
    "deletable": false,
    "editable": false,
    "nbgrader": {
     "cell_type": "code",
     "checksum": "cda33b094ba19ccc37a481e0dd29e0bc",
     "grade": true,
     "grade_id": "cell-764d4476f425c5a2",
     "locked": true,
     "points": 20,
     "schema_version": 3,
     "solution": false
    }
   },
   "outputs": [
    {
     "name": "stderr",
     "output_type": "stream",
     "text": [
      "C:\\Users\\shiva\\anaconda3\\lib\\site-packages\\ipykernel_launcher.py:11: SettingWithCopyWarning: \n",
      "A value is trying to be set on a copy of a slice from a DataFrame\n",
      "\n",
      "See the caveats in the documentation: https://pandas.pydata.org/pandas-docs/stable/user_guide/indexing.html#returning-a-view-versus-a-copy\n",
      "  # This is added back by InteractiveShellApp.init_path()\n"
     ]
    },
    {
     "data": {
      "text/plain": "0.041413202736278604"
     },
     "execution_count": 6,
     "metadata": {},
     "output_type": "execute_result"
    }
   ],
   "source": [
    "mlb_correlation()"
   ]
  },
  {
   "cell_type": "markdown",
   "metadata": {
    "deletable": false,
    "editable": false,
    "nbgrader": {
     "cell_type": "markdown",
     "checksum": "6977a6da9ed6d8b7a0b7e37bbeda709b",
     "grade": false,
     "grade_id": "cell-793df6c04dfb126e",
     "locked": true,
     "schema_version": 3,
     "solution": false
    }
   },
   "source": [
    "## 4\n",
    "For this, calculate the win/loss ratio's correlation with the population of the city it is in for the **NFL** using **2018** data."
   ]
  },
  {
   "cell_type": "code",
   "execution_count": 7,
   "metadata": {
    "deletable": false,
    "nbgrader": {
     "cell_type": "code",
     "checksum": "c4914ad1e119278ec2bd567c52640b66",
     "grade": false,
     "grade_id": "cell-8ccebc209aeec8d9",
     "locked": false,
     "schema_version": 3,
     "solution": true
    }
   },
   "outputs": [],
   "source": [
    "import pandas as pd\n",
    "import numpy as np\n",
    "import scipy.stats as stats\n",
    "import re\n",
    "\n",
    "def res_nfl():\n",
    "    \n",
    "    nfl_df=pd.read_csv(\"assets/nfl.csv\")\n",
    "    nfl_df = nfl_df[(nfl_df['year'] == 2018) & (nfl_df['W'] != nfl_df['W-L%'])]\n",
    "    nfl_df['team'] = nfl_df.apply(lambda x: re.findall('[a-zA-Z0-9 ]*',x['team'])[0], axis=1)\n",
    "    nfl_df['team'] = nfl_df.apply(lambda x: x['team'].split(' ')[-1], axis=1)\n",
    "    nfl_df = nfl_df.set_index('team')\n",
    "\n",
    "    cities=pd.read_html(\"assets/wikipedia_data.html\")[1]\n",
    "    cities=cities.iloc[:-1,[0,3,5,6,7,8]]\n",
    "    cities['NFL'] = cities.apply(lambda x: re.sub('\\[.*\\]','',x['NFL']), axis=1)\n",
    "    cities['NFL'] = cities.apply(lambda x: x['NFL'].split(' ') if ' ' in x['NFL'] else x['NFL'], axis=1)\n",
    "    cities = cities.explode('NFL')\n",
    "    cities = cities.set_index('NFL')\n",
    "\n",
    "    res = pd.merge(nfl_df, cities, how='inner', left_index=True, right_index=True)\n",
    "    res['population'] = res.apply(lambda x: int(x['Population (2016 est.)[8]']), axis=1)\n",
    "    res['W-L%'] = res.apply(lambda x: float(x['W-L%']), axis=1)\n",
    "    temp = res.groupby('Metropolitan area').agg({'W-L%':np.mean, 'population':np.mean})\n",
    "    \n",
    "    return temp\n",
    "\n",
    "def nfl_correlation():\n",
    "    \n",
    "    temp = res_nfl()\n",
    "    \n",
    "    population_by_region = temp['population'] # pass in metropolitan area population from cities\n",
    "    win_loss_by_region = temp['W-L%'] # pass in win/loss ratio from nfl_df in the same order as cities[\"Metropolitan area\"]\n",
    "\n",
    "    return stats.pearsonr(population_by_region, win_loss_by_region)[0]"
   ]
  },
  {
   "cell_type": "code",
   "execution_count": 8,
   "metadata": {
    "deletable": false,
    "editable": false,
    "nbgrader": {
     "cell_type": "code",
     "checksum": "e9415d6399aa49e3a1a60813afdefa3b",
     "grade": true,
     "grade_id": "cell-de7b148b9554dbda",
     "locked": true,
     "points": 20,
     "schema_version": 3,
     "solution": false
    }
   },
   "outputs": [
    {
     "data": {
      "text/plain": "0.2134045407290009"
     },
     "execution_count": 8,
     "metadata": {},
     "output_type": "execute_result"
    }
   ],
   "source": [
    "nfl_correlation()"
   ]
  },
  {
   "cell_type": "markdown",
   "metadata": {
    "deletable": false,
    "editable": false,
    "nbgrader": {
     "cell_type": "markdown",
     "checksum": "b02d5cd3273f561e4ae939bb2a41740c",
     "grade": false,
     "grade_id": "cell-97b49d8639e908c4",
     "locked": true,
     "schema_version": 3,
     "solution": false
    }
   },
   "source": [
    "## 5\n",
    "In this, explore the hypothesis that **given that an area has two sports teams in different sports, those teams will perform the same within their respective sports**; With a series of paired t-tests (so use [`ttest_rel`](https://docs.scipy.org/doc/scipy/reference/generated/scipy.stats.ttest_rel.html)) between all pairs of sports. Are there any sports where we can reject the null hypothesis? Again, average values where a sport has multiple teams in one region. Remember, you will only be including, for each sport, cities which have teams engaged in that sport, drop others as appropriate."
   ]
  },
  {
   "cell_type": "code",
   "execution_count": 9,
   "metadata": {
    "deletable": false,
    "nbgrader": {
     "cell_type": "code",
     "checksum": "6d78c961eb66f8d8c81f06d33ae8f393",
     "grade": false,
     "grade_id": "cell-92f25f44b8d1179f",
     "locked": false,
     "schema_version": 3,
     "solution": true
    }
   },
   "outputs": [],
   "source": [
    "import pandas as pd\n",
    "import numpy as np\n",
    "import scipy.stats as stats\n",
    "import re\n",
    "from scipy.stats import ttest_rel\n",
    "\n",
    "mlb_df=pd.read_csv(\"assets/mlb.csv\")\n",
    "nhl_df=pd.read_csv(\"assets/nhl.csv\")\n",
    "nba_df=pd.read_csv(\"assets/nba.csv\")\n",
    "nfl_df=pd.read_csv(\"assets/nfl.csv\")\n",
    "cities=pd.read_html(\"assets/wikipedia_data.html\")[1]\n",
    "cities=cities.iloc[:-1,[0,3,5,6,7,8]]\n",
    "\n",
    "def sports_team_performance():\n",
    "    \n",
    "    # Note: p_values is a full dataframe, so df.loc[\"NFL\",\"NBA\"] should be the same as df.loc[\"NBA\",\"NFL\"] and\n",
    "    # df.loc[\"NFL\",\"NFL\"] should return np.nan\n",
    "    \n",
    "    nfl = res_nfl()\n",
    "    nfl.rename(columns={'W-L%':'WL NFL'}, inplace=True)\n",
    "    nhl = res_nhl()\n",
    "    nhl.rename(columns={'W/L Ratio':'WL NHL'}, inplace=True)\n",
    "    nba = res_nba()\n",
    "    nba.rename(columns={'W/L%':'WL NBA'}, inplace=True)\n",
    "    mlb = res_mlb()\n",
    "    mlb.rename(columns={'W-L%':'WL MLB'}, inplace=True)\n",
    "\n",
    "    nfl_nhl = pd.merge(nfl, nhl, how='inner', left_index=True, right_index=True)\n",
    "    nfl_nba = pd.merge(nfl, nba, how='inner', left_index=True, right_index=True)\n",
    "    nfl_mlb = pd.merge(nfl, mlb, how='inner', left_index=True, right_index=True)\n",
    "    nhl_nba = pd.merge(nhl, nba, how='inner', left_index=True, right_index=True)\n",
    "    nhl_mlb = pd.merge(nhl, mlb, how='inner', left_index=True, right_index=True)\n",
    "    nba_mlb = pd.merge(nba, mlb, how='inner', left_index=True, right_index=True)\n",
    "\n",
    "    p_nfl_nhl = ttest_rel(nfl_nhl['WL NFL'],nfl_nhl['WL NHL'])[-1]\n",
    "    p_nfl_nba = ttest_rel(nfl_nba['WL NFL'],nfl_nba['WL NBA'])[-1]\n",
    "    p_nfl_mlb = ttest_rel(nfl_mlb['WL NFL'],nfl_mlb['WL MLB'])[-1]\n",
    "    p_nhl_nba = ttest_rel(nhl_nba['WL NHL'],nhl_nba['WL NBA'])[-1]\n",
    "    p_nhl_mlb = ttest_rel(nhl_mlb['WL NHL'],nhl_mlb['WL MLB'])[-1]\n",
    "    p_nba_mlb = ttest_rel(nba_mlb['WL NBA'],nba_mlb['WL MLB'])[-1]\n",
    "\n",
    "    data = [[np.nan, p_nfl_nba, p_nfl_nhl, p_nfl_mlb],[p_nfl_nba, np.nan, p_nhl_nba, p_nba_mlb],[p_nfl_nhl, p_nhl_nba, np.nan, p_nhl_mlb],[p_nfl_mlb, p_nba_mlb, p_nhl_mlb, np.nan]]\n",
    "\n",
    "    sports = ['NFL', 'NBA', 'NHL', 'MLB']\n",
    "    p_values = pd.DataFrame(data, index=sports, columns=sports)\n",
    "    p_values\n",
    "    \n",
    "    return p_values"
   ]
  },
  {
   "cell_type": "code",
   "execution_count": 10,
   "metadata": {
    "deletable": false,
    "editable": false,
    "nbgrader": {
     "cell_type": "code",
     "checksum": "2a596ab421a45cc01168d10e8fbb8f89",
     "grade": true,
     "grade_id": "cell-fb4b9cb5ff4570a6",
     "locked": true,
     "points": 20,
     "schema_version": 3,
     "solution": false
    }
   },
   "outputs": [
    {
     "name": "stderr",
     "output_type": "stream",
     "text": [
      "C:\\Users\\shiva\\anaconda3\\lib\\site-packages\\ipykernel_launcher.py:11: SettingWithCopyWarning: \n",
      "A value is trying to be set on a copy of a slice from a DataFrame\n",
      "\n",
      "See the caveats in the documentation: https://pandas.pydata.org/pandas-docs/stable/user_guide/indexing.html#returning-a-view-versus-a-copy\n",
      "  # This is added back by InteractiveShellApp.init_path()\n"
     ]
    },
    {
     "data": {
      "text/plain": "          NFL       NBA       NHL       MLB\nNFL       NaN  0.692438  0.053925  0.524692\nNBA  0.692438       NaN  0.087494  0.844946\nNHL  0.053925  0.087494       NaN  0.001753\nMLB  0.524692  0.844946  0.001753       NaN",
      "text/html": "<div>\n<style scoped>\n    .dataframe tbody tr th:only-of-type {\n        vertical-align: middle;\n    }\n\n    .dataframe tbody tr th {\n        vertical-align: top;\n    }\n\n    .dataframe thead th {\n        text-align: right;\n    }\n</style>\n<table border=\"1\" class=\"dataframe\">\n  <thead>\n    <tr style=\"text-align: right;\">\n      <th></th>\n      <th>NFL</th>\n      <th>NBA</th>\n      <th>NHL</th>\n      <th>MLB</th>\n    </tr>\n  </thead>\n  <tbody>\n    <tr>\n      <th>NFL</th>\n      <td>NaN</td>\n      <td>0.692438</td>\n      <td>0.053925</td>\n      <td>0.524692</td>\n    </tr>\n    <tr>\n      <th>NBA</th>\n      <td>0.692438</td>\n      <td>NaN</td>\n      <td>0.087494</td>\n      <td>0.844946</td>\n    </tr>\n    <tr>\n      <th>NHL</th>\n      <td>0.053925</td>\n      <td>0.087494</td>\n      <td>NaN</td>\n      <td>0.001753</td>\n    </tr>\n    <tr>\n      <th>MLB</th>\n      <td>0.524692</td>\n      <td>0.844946</td>\n      <td>0.001753</td>\n      <td>NaN</td>\n    </tr>\n  </tbody>\n</table>\n</div>"
     },
     "execution_count": 10,
     "metadata": {},
     "output_type": "execute_result"
    }
   ],
   "source": [
    "sports_team_performance()"
   ]
  }
 ],
 "metadata": {
  "kernelspec": {
   "display_name": "Python 3 (ipykernel)",
   "language": "python",
   "name": "python3"
  },
  "language_info": {
   "codemirror_mode": {
    "name": "ipython",
    "version": 3
   },
   "file_extension": ".py",
   "mimetype": "text/x-python",
   "name": "python",
   "nbconvert_exporter": "python",
   "pygments_lexer": "ipython3",
   "version": "3.9.13"
  }
 },
 "nbformat": 4,
 "nbformat_minor": 4
}